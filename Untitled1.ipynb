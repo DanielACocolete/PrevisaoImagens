{
  "nbformat": 4,
  "nbformat_minor": 0,
  "metadata": {
    "colab": {
      "provenance": [],
      "authorship_tag": "ABX9TyPRVfJV23irbj7+Jn8+rdEm",
      "include_colab_link": true
    },
    "kernelspec": {
      "name": "python3",
      "display_name": "Python 3"
    },
    "language_info": {
      "name": "python"
    }
  },
  "cells": [
    {
      "cell_type": "markdown",
      "metadata": {
        "id": "view-in-github",
        "colab_type": "text"
      },
      "source": [
        "<a href=\"https://colab.research.google.com/github/DanielACocolete/PrevisaoImagens/blob/main/Untitled1.ipynb\" target=\"_parent\"><img src=\"https://colab.research.google.com/assets/colab-badge.svg\" alt=\"Open In Colab\"/></a>"
      ]
    },
    {
      "cell_type": "code",
      "execution_count": 5,
      "metadata": {
        "colab": {
          "base_uri": "https://localhost:8080/"
        },
        "id": "iusMbaXv6Awf",
        "outputId": "964f5a5c-a4db-4657-9cc6-22f58476d1d5"
      },
      "outputs": [
        {
          "output_type": "stream",
          "name": "stdout",
          "text": [
            "Epoch 1/10\n",
            "1563/1563 [==============================] - 75s 47ms/step - loss: 1.4400 - accuracy: 0.4750 - val_loss: 1.2186 - val_accuracy: 0.5645\n",
            "Epoch 2/10\n",
            "1563/1563 [==============================] - 69s 44ms/step - loss: 1.0477 - accuracy: 0.6321 - val_loss: 0.9793 - val_accuracy: 0.6538\n",
            "Epoch 3/10\n",
            "1563/1563 [==============================] - 70s 45ms/step - loss: 0.8832 - accuracy: 0.6906 - val_loss: 0.9159 - val_accuracy: 0.6771\n",
            "Epoch 4/10\n",
            "1563/1563 [==============================] - 73s 47ms/step - loss: 0.7665 - accuracy: 0.7314 - val_loss: 0.8718 - val_accuracy: 0.6999\n",
            "Epoch 5/10\n",
            "1563/1563 [==============================] - 71s 45ms/step - loss: 0.6758 - accuracy: 0.7621 - val_loss: 0.9138 - val_accuracy: 0.6884\n",
            "Epoch 6/10\n",
            "1563/1563 [==============================] - 71s 45ms/step - loss: 0.5961 - accuracy: 0.7900 - val_loss: 0.8702 - val_accuracy: 0.7109\n",
            "Epoch 7/10\n",
            "1563/1563 [==============================] - 71s 45ms/step - loss: 0.5263 - accuracy: 0.8126 - val_loss: 0.8509 - val_accuracy: 0.7197\n",
            "Epoch 8/10\n",
            "1563/1563 [==============================] - 69s 44ms/step - loss: 0.4564 - accuracy: 0.8380 - val_loss: 0.8449 - val_accuracy: 0.7310\n",
            "Epoch 9/10\n",
            "1563/1563 [==============================] - 70s 45ms/step - loss: 0.3902 - accuracy: 0.8597 - val_loss: 0.9474 - val_accuracy: 0.7236\n",
            "Epoch 10/10\n",
            "1563/1563 [==============================] - 71s 45ms/step - loss: 0.3383 - accuracy: 0.8801 - val_loss: 0.9669 - val_accuracy: 0.7271\n",
            "313/313 [==============================] - 4s 12ms/step - loss: 0.9669 - accuracy: 0.7271\n",
            "Test accuracy: 0.7271000146865845\n"
          ]
        }
      ],
      "source": [
        "\n",
        "import tensorflow as tf\n",
        "from tensorflow.keras.datasets import cifar10\n",
        "from tensorflow.keras.preprocessing.image import ImageDataGenerator\n",
        "\n",
        "# Carregar os dados CIFAR-10\n",
        "(train_images, train_labels), (test_images, test_labels) = cifar10.load_data()\n",
        "\n",
        "# Pré-processamento das imagens\n",
        "train_images = train_images / 255.0\n",
        "test_images = test_images / 255.0\n",
        "\n",
        "# Definir o modelo CNN\n",
        "model = tf.keras.models.Sequential([\n",
        "    tf.keras.layers.Conv2D(32, (3, 3), activation='relu', input_shape=(32, 32, 3)),\n",
        "    tf.keras.layers.MaxPooling2D((2, 2)),\n",
        "    tf.keras.layers.Conv2D(64, (3, 3), activation='relu'),\n",
        "    tf.keras.layers.MaxPooling2D((2, 2)),\n",
        "    tf.keras.layers.Conv2D(128, (3, 3), activation='relu'),\n",
        "    tf.keras.layers.MaxPooling2D((2, 2)),\n",
        "    tf.keras.layers.Flatten(),\n",
        "    tf.keras.layers.Dense(512, activation='relu'),\n",
        "    tf.keras.layers.Dense(10, activation='softmax')\n",
        "])\n",
        "\n",
        "# Compilar o modelo\n",
        "model.compile(optimizer='adam',\n",
        "              loss='sparse_categorical_crossentropy',\n",
        "              metrics=['accuracy'])\n",
        "\n",
        "# Treinar o modelo\n",
        "history = model.fit(train_images, train_labels, epochs=10, validation_data=(test_images, test_labels))\n",
        "\n",
        "# Avaliar o modelo\n",
        "test_loss, test_acc = model.evaluate(test_images, test_labels)\n",
        "\n",
        "print('Test accuracy:', test_acc)"
      ]
    },
    {
      "cell_type": "code",
      "source": [
        "import tensorflow as tf\n",
        "import numpy as np\n",
        "from tensorflow.keras.preprocessing import image\n",
        "import os\n",
        "from PIL import Image\n",
        "\n",
        "# Carregar o modelo treinado\n",
        "model = tf.keras.models.load_model('modelo_cifar10.h5')\n",
        "\n",
        "# Carregar uma nova imagem\n",
        "image_path = '/content/Imagens'  # Substitua pelo caminho da sua imagem\n",
        "\n",
        "imagens_list = []\n",
        "\n",
        "i = 0\n",
        "\n",
        "for arquivo in os.listdir(image_path):\n",
        "    if arquivo.endswith(\".jpg\") or arquivo.endswith(\".png\"):\n",
        "        caminho_completo = os.path.join(image_path, arquivo)\n",
        "        imagem = Image.open(caminho_completo)\n",
        "\n",
        "        img = image.load_img(caminho_completo, target_size=(32, 32))\n",
        "        img_array = image.img_to_array(img)\n",
        "        img_array = np.expand_dims(img_array, axis=0)\n",
        "        img_array /= 255.0  # Normalização\n",
        "\n",
        "        # Fazer a previsão\n",
        "        prediction = model.predict(img_array)\n",
        "        predicted_class = np.argmax(prediction)\n",
        "\n",
        "        # Mapear o número da classe para o nome da classe\n",
        "        class_names = ['avião', 'automóvel', 'pássaro', 'gato', 'cervo', 'cachorro', 'sapo', 'cavalo', 'navio', 'caminhão']\n",
        "        predicted_label = class_names[predicted_class]\n",
        "\n",
        "        print('Predicted class: Arquivo ', caminho_completo, '-', predicted_label)\n",
        "\n",
        "        i = i + 1"
      ],
      "metadata": {
        "colab": {
          "base_uri": "https://localhost:8080/"
        },
        "id": "1-DrhU1R9axV",
        "outputId": "1ae5ab93-c5bd-4082-cffb-c6f2e5ebd18a"
      },
      "execution_count": 24,
      "outputs": [
        {
          "output_type": "stream",
          "name": "stdout",
          "text": [
            "1/1 [==============================] - 0s 78ms/step\n",
            "Predicted class: Arquivo  /content/Imagens/cavalo.jpg - cavalo\n",
            "1/1 [==============================] - 0s 20ms/step\n",
            "Predicted class: Arquivo  /content/Imagens/cachorro.jpg - cachorro\n",
            "1/1 [==============================] - 0s 21ms/step\n",
            "Predicted class: Arquivo  /content/Imagens/2Bixos.jpg - cavalo\n",
            "1/1 [==============================] - 0s 22ms/step\n",
            "Predicted class: Arquivo  /content/Imagens/gato.jpg - caminhão\n",
            "1/1 [==============================] - 0s 20ms/step\n",
            "Predicted class: Arquivo  /content/Imagens/carro.jpg - automóvel\n",
            "1/1 [==============================] - 0s 32ms/step\n",
            "Predicted class: Arquivo  /content/Imagens/helicoptero.jpg - avião\n",
            "1/1 [==============================] - 0s 28ms/step\n",
            "Predicted class: Arquivo  /content/Imagens/ancorado.jpg - caminhão\n",
            "1/1 [==============================] - 0s 31ms/step\n",
            "Predicted class: Arquivo  /content/Imagens/ferrari.jpg - cachorro\n",
            "1/1 [==============================] - 0s 29ms/step\n",
            "Predicted class: Arquivo  /content/Imagens/cervo.jpg - sapo\n",
            "1/1 [==============================] - 0s 32ms/step\n",
            "Predicted class: Arquivo  /content/Imagens/pc.jpg - caminhão\n",
            "1/1 [==============================] - 0s 36ms/step\n",
            "Predicted class: Arquivo  /content/Imagens/navio.jpg - avião\n",
            "1/1 [==============================] - 0s 35ms/step\n",
            "Predicted class: Arquivo  /content/Imagens/passarinho.jpg - pássaro\n",
            "1/1 [==============================] - 0s 48ms/step\n",
            "Predicted class: Arquivo  /content/Imagens/coruja.jpg - cavalo\n",
            "1/1 [==============================] - 0s 39ms/step\n",
            "Predicted class: Arquivo  /content/Imagens/sapo.jpg - avião\n",
            "1/1 [==============================] - 0s 29ms/step\n",
            "Predicted class: Arquivo  /content/Imagens/Afundado.jpg - cavalo\n",
            "1/1 [==============================] - 0s 42ms/step\n",
            "Predicted class: Arquivo  /content/Imagens/avia.jpg - avião\n",
            "1/1 [==============================] - 0s 112ms/step\n",
            "Predicted class: Arquivo  /content/Imagens/mustang.jpg - automóvel\n"
          ]
        }
      ]
    }
  ]
}